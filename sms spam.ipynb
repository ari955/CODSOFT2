{
 "cells": [
  {
   "cell_type": "markdown",
   "id": "cd9bd08f",
   "metadata": {},
   "source": [
    "## SMS spam detection"
   ]
  },
  {
   "cell_type": "markdown",
   "id": "ecb93863",
   "metadata": {},
   "source": [
    "## Step 1:\n",
    "#### Importing libraries "
   ]
  },
  {
   "cell_type": "code",
   "execution_count": 1,
   "id": "22c20340",
   "metadata": {},
   "outputs": [],
   "source": [
    "#importing libraries\n",
    "import pandas as pd\n",
    "import numpy as np\n",
    "import matplotlib.pyplot as plt"
   ]
  },
  {
   "cell_type": "code",
   "execution_count": 2,
   "id": "8959649e",
   "metadata": {},
   "outputs": [],
   "source": [
    "from sklearn.model_selection import train_test_split\n",
    "from sklearn.metrics import classification_report, accuracy_score"
   ]
  },
  {
   "cell_type": "markdown",
   "id": "174a4def",
   "metadata": {},
   "source": [
    "## Step 2 :\n",
    "#### Importing the dataset"
   ]
  },
  {
   "cell_type": "code",
   "execution_count": 5,
   "id": "fa6519b8",
   "metadata": {},
   "outputs": [],
   "source": [
    "#import dataset\n",
    "spam_data = pd.read_csv('spam.csv', encoding='latin1')"
   ]
  },
  {
   "cell_type": "markdown",
   "id": "add5a674",
   "metadata": {},
   "source": [
    "The latin1 encoding is often used when a file contains non-ASCII characters, which might cause errors if read with the default UTF-8 encoding."
   ]
  },
  {
   "cell_type": "markdown",
   "id": "ad435b2b",
   "metadata": {},
   "source": [
    "## Step 3:\n",
    "#### Preprocessing data"
   ]
  },
  {
   "cell_type": "code",
   "execution_count": 7,
   "id": "3e7e88d0",
   "metadata": {},
   "outputs": [
    {
     "name": "stdout",
     "output_type": "stream",
     "text": [
      "     v1                                                 v2 Unnamed: 2  \\\n",
      "0   ham  Go until jurong point, crazy.. Available only ...        NaN   \n",
      "1   ham                      Ok lar... Joking wif u oni...        NaN   \n",
      "2  spam  Free entry in 2 a wkly comp to win FA Cup fina...        NaN   \n",
      "3   ham  U dun say so early hor... U c already then say...        NaN   \n",
      "4   ham  Nah I don't think he goes to usf, he lives aro...        NaN   \n",
      "\n",
      "  Unnamed: 3 Unnamed: 4  \n",
      "0        NaN        NaN  \n",
      "1        NaN        NaN  \n",
      "2        NaN        NaN  \n",
      "3        NaN        NaN  \n",
      "4        NaN        NaN  \n"
     ]
    }
   ],
   "source": [
    "#preprocess data\n",
    "print(spam_data.head())\n"
   ]
  },
  {
   "cell_type": "code",
   "execution_count": 9,
   "id": "d66f265b",
   "metadata": {},
   "outputs": [
    {
     "name": "stdout",
     "output_type": "stream",
     "text": [
      "          v1                      v2  \\\n",
      "count   5572                    5572   \n",
      "unique     2                    5169   \n",
      "top      ham  Sorry, I'll call later   \n",
      "freq    4825                      30   \n",
      "\n",
      "                                               Unnamed: 2  \\\n",
      "count                                                  50   \n",
      "unique                                                 43   \n",
      "top      bt not his girlfrnd... G o o d n i g h t . . .@\"   \n",
      "freq                                                    3   \n",
      "\n",
      "                   Unnamed: 3 Unnamed: 4  \n",
      "count                      12          6  \n",
      "unique                     10          5  \n",
      "top      MK17 92H. 450Ppw 16\"    GNT:-)\"  \n",
      "freq                        2          2  \n"
     ]
    }
   ],
   "source": [
    "print(spam_data.describe())\n"
   ]
  },
  {
   "cell_type": "code",
   "execution_count": 10,
   "id": "f992d127",
   "metadata": {},
   "outputs": [
    {
     "name": "stdout",
     "output_type": "stream",
     "text": [
      "v1               0\n",
      "v2               0\n",
      "Unnamed: 2    5522\n",
      "Unnamed: 3    5560\n",
      "Unnamed: 4    5566\n",
      "dtype: int64\n"
     ]
    }
   ],
   "source": [
    "print(spam_data.isna().sum())"
   ]
  },
  {
   "cell_type": "markdown",
   "id": "4b6e3277",
   "metadata": {},
   "source": [
    "The unnamed columns are almost empty columns , so our predictor column would be v2 and target column v1"
   ]
  },
  {
   "cell_type": "markdown",
   "id": "8cebd29c",
   "metadata": {},
   "source": [
    "## Step 4:\n",
    "#### Selecting the predictor variable and target variable"
   ]
  },
  {
   "cell_type": "code",
   "execution_count": 11,
   "id": "54e044f9",
   "metadata": {},
   "outputs": [],
   "source": [
    "#feature selection\n",
    "X = spam_data['v2']   #predictor\n",
    "Y = spam_data['v1']   #target"
   ]
  },
  {
   "cell_type": "markdown",
   "id": "3b37bb70",
   "metadata": {},
   "source": [
    "## Step 5:\n",
    "#### Converting the text to vectors(numerical data) using TfidfVectorizer"
   ]
  },
  {
   "cell_type": "code",
   "execution_count": 13,
   "id": "0b038505",
   "metadata": {},
   "outputs": [],
   "source": [
    "#text vectorizer\n",
    "from sklearn.feature_extraction.text import TfidfVectorizer\n",
    "\n",
    "vector = TfidfVectorizer(stop_words='english', max_features=5000)\n",
    "X_tfidf = vector.fit_transform(X)"
   ]
  },
  {
   "cell_type": "markdown",
   "id": "bb670c7d",
   "metadata": {},
   "source": [
    "## Step 6:\n",
    "#### Splitting the data into training and testing sets"
   ]
  },
  {
   "cell_type": "code",
   "execution_count": 15,
   "id": "d6975ae0",
   "metadata": {},
   "outputs": [],
   "source": [
    "#splitting data\n",
    "X_train, X_test, Y_train, Y_test = train_test_split(X_tfidf,Y, test_size=0.2, random_state=42)"
   ]
  },
  {
   "cell_type": "markdown",
   "id": "ad9776e0",
   "metadata": {},
   "source": [
    "## Step 7:\n",
    "#### Implementing Naive Bayes model"
   ]
  },
  {
   "cell_type": "code",
   "execution_count": 19,
   "id": "6b2aedfa",
   "metadata": {},
   "outputs": [
    {
     "name": "stdout",
     "output_type": "stream",
     "text": [
      "['ham' 'ham' 'spam' ... 'ham' 'ham' 'spam']\n",
      "Accuracy Score:  0.9757847533632287\n",
      "Classification report:                precision    recall  f1-score   support\n",
      "\n",
      "         ham       0.97      1.00      0.99       965\n",
      "        spam       1.00      0.82      0.90       150\n",
      "\n",
      "    accuracy                           0.98      1115\n",
      "   macro avg       0.99      0.91      0.94      1115\n",
      "weighted avg       0.98      0.98      0.97      1115\n",
      "\n"
     ]
    }
   ],
   "source": [
    "#model selection (naive bayes)\n",
    "from sklearn.naive_bayes import MultinomialNB\n",
    "\n",
    "model_nb = MultinomialNB()\n",
    "model_nb.fit(X_train, Y_train)\n",
    "\n",
    "y_pred1 = model_nb.predict(X_test)\n",
    "print(y_pred1)\n",
    "\n",
    "print('Accuracy Score: ', accuracy_score(Y_test, y_pred1))\n",
    "print('Classification report: ', classification_report(Y_test, y_pred1))"
   ]
  },
  {
   "cell_type": "markdown",
   "id": "655cf417",
   "metadata": {},
   "source": [
    "1. Accuracy is 97.57% \n",
    "2. Precision 1.00 (100%) for spam indicates that all messages predicted as spam were actually spam \n",
    "3. Recall 0.82 (82%) for spam indicates only 82% of actual spam messages were correctly identified."
   ]
  },
  {
   "cell_type": "markdown",
   "id": "7133e621",
   "metadata": {},
   "source": [
    "### Implementing logistic regression model"
   ]
  },
  {
   "cell_type": "code",
   "execution_count": 21,
   "id": "92961885",
   "metadata": {
    "scrolled": true
   },
   "outputs": [
    {
     "name": "stdout",
     "output_type": "stream",
     "text": [
      "['ham' 'ham' 'ham' ... 'ham' 'ham' 'ham']\n",
      "Accuracy Score:  0.9479820627802691\n",
      "Classification report:                precision    recall  f1-score   support\n",
      "\n",
      "         ham       0.95      1.00      0.97       965\n",
      "        spam       0.97      0.63      0.77       150\n",
      "\n",
      "    accuracy                           0.95      1115\n",
      "   macro avg       0.96      0.82      0.87      1115\n",
      "weighted avg       0.95      0.95      0.94      1115\n",
      "\n"
     ]
    }
   ],
   "source": [
    "#logistic model\n",
    "from sklearn.linear_model import LogisticRegression\n",
    "\n",
    "model_lr = LogisticRegression()\n",
    "model_lr.fit(X_train, Y_train)\n",
    "\n",
    "y_pred2 = model_lr.predict(X_test)\n",
    "print(y_pred2)\n",
    "\n",
    "print('Accuracy Score: ', accuracy_score(Y_test, y_pred2))\n",
    "print('Classification report: ', classification_report(Y_test, y_pred2))"
   ]
  },
  {
   "cell_type": "markdown",
   "id": "634dc3e0",
   "metadata": {},
   "source": [
    "1. Accuracy is 94.80%\n",
    "2. Precision 0.97 (97%) indicates , the messages predicted as spam were actually spam for 97% \n",
    "3. Recall 0.63 (63%) indicates that only 63% actual spam messages were correctly identified"
   ]
  },
  {
   "cell_type": "markdown",
   "id": "d7c7502e",
   "metadata": {},
   "source": [
    "### Implementing SVM model "
   ]
  },
  {
   "cell_type": "code",
   "execution_count": 20,
   "id": "b6135121",
   "metadata": {
    "scrolled": true
   },
   "outputs": [
    {
     "name": "stdout",
     "output_type": "stream",
     "text": [
      "['ham' 'ham' 'ham' ... 'ham' 'ham' 'spam']\n",
      "Accuracy Score:  0.9757847533632287\n",
      "Classification report:                precision    recall  f1-score   support\n",
      "\n",
      "         ham       0.98      1.00      0.99       965\n",
      "        spam       0.97      0.85      0.90       150\n",
      "\n",
      "    accuracy                           0.98      1115\n",
      "   macro avg       0.97      0.92      0.95      1115\n",
      "weighted avg       0.98      0.98      0.98      1115\n",
      "\n"
     ]
    }
   ],
   "source": [
    "#svm model \n",
    "from sklearn.svm import SVC\n",
    "\n",
    "SVM_model = SVC(kernel='linear')\n",
    "SVM_model.fit(X_train, Y_train)\n",
    "\n",
    "y_pred3 = SVM_model.predict(X_test)\n",
    "print(y_pred3)\n",
    "\n",
    "print('Accuracy Score: ', accuracy_score(Y_test, y_pred3))\n",
    "print('Classification report: ', classification_report(Y_test, y_pred3))"
   ]
  },
  {
   "cell_type": "markdown",
   "id": "a6d96999",
   "metadata": {},
   "source": [
    "1. Accuracy is 97.57%\n",
    "2. Precision 0.97 (97%)for spam indicates , the messages predicted as spam were actually spam for 97% \n",
    "3. Recall 0.85 (85%) for spam indicates that only 63% actual spam messages were correctly identified"
   ]
  },
  {
   "cell_type": "markdown",
   "id": "f6195a76",
   "metadata": {},
   "source": [
    "## Accuracy Scores:\n",
    "\n",
    "1. Naive Bayes: 97.58%\n",
    "2. Logistic Regression: 94.80%\n",
    "3. SVM: 97.58%"
   ]
  },
  {
   "cell_type": "markdown",
   "id": "b0b00e41",
   "metadata": {},
   "source": [
    "## Overall Summary of the three models\n",
    "1. Best Model for Spam Recall: SVM and Naive Bayes outperform Logistic Regression in detecting spam.\n",
    "2. Overall Balanced Performance: SVM achieves the best balance between precision and recall across both ham and spam."
   ]
  },
  {
   "cell_type": "code",
   "execution_count": null,
   "id": "6b4b1ab4",
   "metadata": {},
   "outputs": [],
   "source": []
  }
 ],
 "metadata": {
  "kernelspec": {
   "display_name": "Python 3 (ipykernel)",
   "language": "python",
   "name": "python3"
  },
  "language_info": {
   "codemirror_mode": {
    "name": "ipython",
    "version": 3
   },
   "file_extension": ".py",
   "mimetype": "text/x-python",
   "name": "python",
   "nbconvert_exporter": "python",
   "pygments_lexer": "ipython3",
   "version": "3.11.3"
  }
 },
 "nbformat": 4,
 "nbformat_minor": 5
}
